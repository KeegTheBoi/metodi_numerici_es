{
 "cells": [
  {
   "cell_type": "markdown",
   "id": "b97be3ab-d6dd-495f-a342-e5e837cfb8bc",
   "metadata": {},
   "source": [
    "#                       Esercitazione 4 - 12 Marzo 2023"
   ]
  },
  {
   "cell_type": "markdown",
   "id": "8c87694a-727f-410f-a307-3f35f0dcc933",
   "metadata": {},
   "source": [
    "Esplorate le caratteristiche dell'insieme dei numeri di macchina F($\\beta$,t,L,U) sul vostro calcolatore utilizzando il comando sys.float_info, dopo aver importato im modulo sys:\n",
    "\n",
    "import sys\n",
    "\n",
    "print(sys.float_info)"
   ]
  },
  {
   "cell_type": "code",
   "execution_count": 73,
   "id": "41befe1d-4b51-40b3-a8bc-db8b2d2b886e",
   "metadata": {
    "tags": []
   },
   "outputs": [
    {
     "name": "stdout",
     "output_type": "stream",
     "text": [
      "sys.float_info(max=1.7976931348623157e+308, max_exp=1024, max_10_exp=308, min=2.2250738585072014e-308, min_exp=-1021, min_10_exp=-307, dig=15, mant_dig=53, epsilon=2.220446049250313e-16, radix=2, rounds=1)\n"
     ]
    }
   ],
   "source": [
    "import sys\n",
    "import numpy as np\n",
    "import matplotlib.pyplot as plt\n",
    "\n",
    "print(sys.float_info)"
   ]
  },
  {
   "cell_type": "markdown",
   "id": "82c24c2e-15d3-4e96-8436-8a2c4b01011b",
   "metadata": {},
   "source": [
    "min_exp=-1021   (L=-1021-1=-1022)\n",
    "\n",
    "max_exp=1024    (U=1024-1=1023)\n",
    "\n",
    "mant_dig=53 (incluso l'hidden bit)\n",
    "\n",
    "dig=15, significa che i numeri \"float\" vengono convertiti in stringhe con un massimo di 15 cifre decimali. Le cifre decimali oltre la quindicesima vengono eliminate (troncate). (solo a livello di stringa visualizzata)"
   ]
  },
  {
   "cell_type": "markdown",
   "id": "224ac7e6-31df-4f15-8ffc-9c82bd21c82e",
   "metadata": {},
   "source": [
    "- **1.**  Calcolare lo spacing in  $[2^{52}, 2^{53}]$.\n",
    "    - Sia $x=2^{52}$ individuare il numero successivo a $2^{52}$ ed assegnarlo ad una variabile  y.\n",
    "    - Cosa succede se consideriamo il valore z=x+0.5?\n",
    "    - Cosa succede se consideriamo il valore q=y+0.5?\n",
    "  "
   ]
  },
  {
   "cell_type": "markdown",
   "id": "c73d1758-eb82-48af-8618-6dfb522dcdd6",
   "metadata": {},
   "source": [
    "- **2** Calcolare la cardinalità dell'insieme dei numeri finiti di Python"
   ]
  },
  {
   "cell_type": "markdown",
   "id": "cee853bd-aca6-47f4-980f-7e44473f7523",
   "metadata": {},
   "source": [
    "- **3**  Verificare numericamente che $\\texttt{eps} = 2^{-52}$, spacing nell'intervallo $[1, 2]$,\n",
    "è il piu' piccolo $x$ tale che $fl(1 + x)$ è  diverso da $1$. \n"
   ]
  },
  {
   "cell_type": "markdown",
   "id": "35d7206c-f742-4616-b92c-91b37127a4d3",
   "metadata": {},
   "source": [
    "- **4** Costruire un numpy array costituito da n=10 valori tutti uguali a 0.1\n",
    "-     Effettuate la somma utilizzando un ciclo for.\n",
    "-     Effettuate la somma effettuando la somma con la funzione sum del modulo numpy.\n",
    "  Cosa osservate? Cercate di giustificare i risultati "
   ]
  },
  {
   "cell_type": "markdown",
   "id": "d19cd104-d1ea-4444-996c-0a9672063450",
   "metadata": {},
   "source": [
    "- **5.** Siano $a=1.234567890123400 e+15$, $b=-1.234567890123401 e+15$, $c=0.06$. \n",
    "  Calcolare $(a+b)+c$, $(a+c)+b$, $a+(b+c)$. Che cosa si osserva? Ripetere l'esercizio con $a=0.23371258 e-4$, $b=0.33678429 e+2$, $c=-0.33677911 e+2$."
   ]
  },
  {
   "cell_type": "markdown",
   "id": "960d25c1-9677-4b1e-92c1-c16870d520b6",
   "metadata": {},
   "source": [
    "- **6.** Si considerino le espressioni $y_1=\\sqrt{x^2+1}-x$ e $y_2=\\frac{1}{\\sqrt{x^2+1}+x}$. Calcolare il valore di $y_1$ e $y_2$ per $x=7777$ e $x=77777777$. Che cosa si osserva? Commentare i risultati ottenuti."
   ]
  },
  {
   "cell_type": "markdown",
   "id": "e3d8c3b3-d514-41ec-a6f2-eb22311ab157",
   "metadata": {},
   "source": [
    "- **7.** Valutare in aritmetica floating point l'espressione\n",
    "$$A(x)=\\frac{1}{x}-\\frac{1}{(x+1)}$$  nel vettore   $x=[10^0, 10^1,... ,10^{20}]$ contenente potenze successive  di $10$,  Si calcoli per ogni elemento di x l'errore relativo considerando come valore esatto quello calcolato usando  l'espressione algebricamente equivalente\n",
    "$$\n",
    "B(x)=\\frac{1}{x (x+1)}.\n",
    "$$ Si visualizzi l'errore relativo in un grafico in scala logaritmica su $x$ e $y$"
   ]
  },
  {
   "cell_type": "markdown",
   "id": "27155dcd-6580-4e3d-aac9-fa42b717bf70",
   "metadata": {},
   "source": [
    "- **8-**  Risolvere l'equazione $x^2+10^k x+1=0$ con k in range(1,9). \n",
    "\n",
    "- Scrivere un codice Python che calcola le due radici: x1=(-b+sqrt(Delta))/2  e x2=(-b-sqrt(Delta))/2, dove Delta=b^2-4ac,  per tutti i valori di k in range(1,9)\n",
    "\n",
    "- Calcolare l'errore relativo della soluzione numerica x1 rispetto alla soluzione in aritmetica reale, che per valori di k alti è  uguale a $10^{-k}$, altrimenti è una sua approssimazione. \n",
    "\n",
    "- Visualizzare l'errore relativo per ogni valore di k.\n",
    "\n",
    "- Proporre un algoritmo aleternativo per il calcolo di una delle due soluzioni, che fornisca errore relativo inferiore."
   ]
  },
  {
   "cell_type": "markdown",
   "id": "9f6294cc-b0df-40b8-a1f5-450f4e756ffa",
   "metadata": {},
   "source": [
    "- **9.** Scrivere uno script Matlab che fornisca le approssimazioni di $e=\\exp(1)$ ottenute con la formula\n",
    "$f(n)=(1/n+1)^n$ per $n=10^k$ e  $k=0, ..., 16$. \n",
    "\n",
    "Visualizzare  un grafico con i valori di $f(n)$ al variare di n ed un grafico con i valori dell'errore relativo (considerando come valore esatto il valore math.exp(1)).  Cosa si osserva? Commentare i risultati ottenuti."
   ]
  },
  {
   "cell_type": "code",
   "execution_count": 36,
   "id": "de9f90ae-afca-4294-9acd-05585d601eb7",
   "metadata": {
    "tags": []
   },
   "outputs": [
    {
     "name": "stdout",
     "output_type": "stream",
     "text": [
      "x = 4503599627370496\n",
      "y = 9007199254740992 \n",
      "step -> 91910196476948.89\n",
      "spacing -> 1\n",
      "\n",
      "z = 4503599627370496.0\n",
      "q = 9007199254740992.0\n"
     ]
    }
   ],
   "source": [
    "#1\n",
    "beta = 2\n",
    "low_exp = 52\n",
    "high_exp = low_exp + 1\n",
    "x = beta ** low_exp\n",
    "y = beta ** high_exp\n",
    "spacing = lambda p, t, beta: beta ** (p + 1 - t)\n",
    "arr, step = np.linspace(x, y, retstep=True) \n",
    "print(f\"x = {x}\\ny = {y} \\nstep -> {step}\")\n",
    "print(f\"spacing -> {spacing(low_exp, high_exp, beta)}\")\n",
    "z = x + 0.5\n",
    "q = y + 0.5\n",
    "print(f\"\\nz = {z}\\nq = {q}\")"
   ]
  },
  {
   "cell_type": "code",
   "execution_count": 37,
   "id": "29588be5-afa3-4df1-8efc-efc3c24c7938",
   "metadata": {
    "tags": []
   },
   "outputs": [
    {
     "name": "stdout",
     "output_type": "stream",
     "text": [
      "1799999999997956\n"
     ]
    }
   ],
   "source": [
    "#2\n",
    "cardinalita = lambda beta, t, L, U: 2 * (beta-1) * beta ** (t-1) + (U-L+1)\n",
    "beta = 10\n",
    "t = 15\n",
    "U = -1022\n",
    "L = 1023\n",
    "print(cardinalita(beta, t, L, U))"
   ]
  },
  {
   "cell_type": "code",
   "execution_count": 43,
   "id": "bdeeefb6-7f7b-4a21-a296-4151921eec15",
   "metadata": {
    "tags": []
   },
   "outputs": [
    {
     "name": "stdout",
     "output_type": "stream",
     "text": [
      "spacing: 1e-52\n",
      "fl(x + 1): 1.0\n"
     ]
    }
   ],
   "source": [
    "#3\n",
    "eps = beta ** -low_exp\n",
    "low = 0\n",
    "high = 53\n",
    "sp = spacing(low, high, beta)\n",
    "print(f\"spacing: {sp}\")\n",
    "print(f\"fl(x + 1): {(sp + 1)}\")"
   ]
  },
  {
   "cell_type": "code",
   "execution_count": 42,
   "id": "5a53ac7b-ffc2-4fd6-bdf4-c7ee64429b01",
   "metadata": {
    "tags": []
   },
   "outputs": [
    {
     "name": "stdout",
     "output_type": "stream",
     "text": [
      "sum loop = 0.9999999999999999 sum py 1.0\n"
     ]
    }
   ],
   "source": [
    "#4\n",
    "from functools import reduce\n",
    "\n",
    "n = 10\n",
    "sum_loop = lambda arr, sum: reduce(lambda a,b: a + b, arr) \n",
    "sum_num_py = lambda arr: np.sum(arr)\n",
    "\n",
    "arr = np.repeat(0.1, n)\n",
    "print(f\"sum loop = {sum_loop(arr, 0)} sum py {sum_num_py(arr)}\")"
   ]
  },
  {
   "cell_type": "code",
   "execution_count": 65,
   "id": "525e1c44-36ae-4440-be7e-05451af1d6d4",
   "metadata": {
    "tags": []
   },
   "outputs": [
    {
     "name": "stdout",
     "output_type": "stream",
     "text": [
      "6e-17\n",
      "-0.9999999999999999\n",
      "-1.0\n",
      "-1.0\n"
     ]
    }
   ],
   "source": [
    "#5\n",
    "scale = lambda m, exp, beta: m * beta / (beta ** exp)\n",
    "normalize = lambda x, beta: x / beta \n",
    "exp = 16\n",
    "a=1.234567890123400e+15\n",
    "b=-1.234567890123401e+15\n",
    "c=scale(6e-3, 15, 10)\n",
    "\n",
    "print(c)\n",
    "ass1 = lambda a, b, c: (a+b)+c\n",
    "print(ass(a,b,c))\n",
    "ass2 = lambda a, b, c: (a+c)+b\n",
    "print(ass2(a,b,c))\n",
    "ass3 = lambda a, b, c: a + (b+c)\n",
    "print(ass2(a,b,c))"
   ]
  },
  {
   "cell_type": "code",
   "execution_count": 66,
   "id": "563a889d-0bfb-4197-9e44-cbaf8c207e43",
   "metadata": {
    "tags": []
   },
   "outputs": [
    {
     "name": "stdout",
     "output_type": "stream",
     "text": [
      "x is 77777, y1: 77777.00000642863, y2: 77777.00001285727\n",
      "x is 77777777, y1: 77777777.0, y2: 77777777.00000001\n"
     ]
    }
   ],
   "source": [
    "#6\n",
    "y1 = lambda x: np.sqrt(x**2 + 1)\n",
    "y2 = lambda x: 1 / y1(x) + x\n",
    "x = 77777\n",
    "print(f\"x is {x}, y1: {y1(x)}, y2: {y2(x)}\")\n",
    "x = 77777777\n",
    "print(f\"x is {x}, y1: {y1(x)}, y2: {y2(x)}\")"
   ]
  },
  {
   "cell_type": "code",
   "execution_count": 107,
   "id": "5e56b77c-83c9-416f-9ff1-470f05ed2d51",
   "metadata": {
    "tags": []
   },
   "outputs": [
    {
     "data": {
      "text/plain": [
       "[<matplotlib.lines.Line2D at 0x19a97e4ba50>]"
      ]
     },
     "execution_count": 107,
     "metadata": {},
     "output_type": "execute_result"
    },
    {
     "data": {
      "image/png": "[encoded data removed]",
      "text/plain": [
       "<Figure size 640x480 with 1 Axes>"
      ]
     },
     "metadata": {},
     "output_type": "display_data"
    }
   ],
   "source": [
    "A = lambda x: (1 / x) - (1 / (x + 1))\n",
    "B = lambda x: 1 / (x * (x + 1))\n",
    "\n",
    "n = 20\n",
    "x = 10.0 ** np.arange(21)\n",
    "err = np.abs(A(x) - B(x)) / np.abs(B(x))\n",
    "plt.loglog(x, err, 'b')\n",
    "plt.loglog(x, A(x), 'r')\n",
    "plt.loglog(x, B(x), 'g')\n"
   ]
  },
  {
   "cell_type": "code",
   "execution_count": 114,
   "id": "6385a709-13a0-4f04-b5d5-368d0dbd1c9b",
   "metadata": {
    "tags": []
   },
   "outputs": [
    {
     "data": {
      "text/plain": [
       "(array([ 1.        , -0.10102051, -0.05012563, -0.03337045, -0.02501564,\n",
       "        -0.02000801, -0.0166713 , -0.01428863, -0.01250195, -0.01111248]),\n",
       " array([ -1.        ,  -9.89897949, -19.94987437, -29.96662955,\n",
       "        -39.97498436, -49.97999199, -59.9833287 , -69.98571137,\n",
       "        -79.98749805, -89.98888752]))"
      ]
     },
     "execution_count": 114,
     "metadata": {},
     "output_type": "execute_result"
    }
   ],
   "source": [
    "#8\n",
    "def sol_equa_second(a, b, c):\n",
    "    delta=np.abs(b**2-4*a*c)\n",
    "    return (-b+np.sqrt(delta))/2, (-b-np.sqrt(delta))/2\n",
    "\n",
    "k = 10\n",
    "sol_equa_second(1, 10 * np.arange(k), 1)"
   ]
  },
  {
   "cell_type": "code",
   "execution_count": null,
   "id": "29be05e2-111f-43ab-9f97-12124a556377",
   "metadata": {},
   "outputs": [],
   "source": []
  }
 ],
 "metadata": {
  "kernelspec": {
   "display_name": "Python 3 (ipykernel)",
   "language": "python",
   "name": "python3"
  },
  "language_info": {
   "codemirror_mode": {
    "name": "ipython",
    "version": 3
   },
   "file_extension": ".py",
   "mimetype": "text/x-python",
   "name": "python",
   "nbconvert_exporter": "python",
   "pygments_lexer": "ipython3",
   "version": "3.11.3"
  }
 },
 "nbformat": 4,
 "nbformat_minor": 5
}
