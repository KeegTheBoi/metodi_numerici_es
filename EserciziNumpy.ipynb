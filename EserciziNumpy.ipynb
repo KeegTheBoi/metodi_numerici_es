{
 "cells": [
  {
   "cell_type": "markdown",
   "id": "cb8d7ec5-c308-4c91-8bbf-adad4c51b57f",
   "metadata": {},
   "source": [
    "# Esercizio 1"
   ]
  },
  {
   "cell_type": "markdown",
   "id": "b7c7f021-757d-4cd3-bba5-57ca8bfd4077",
   "metadata": {},
   "source": [
    "Definire i  numpy array a=[1.2, 5.4, 6, 1.59] e b=[5.2, 1.2, 1.5, 2] ed eseguire le seguenti operazioni:\n",
    "  - calcolare la radice quadrata degli elementi di a;\n",
    "   - calcolare 𝑒xp(𝑎/2) ;\n",
    "   - calcolare il vettore somma tra a e b ;\n",
    "   - moltiplicare ogni elemento di a per il corrispondente elemento di b;\n",
    "   - creare un vettore di valori uniformemente equispaziati tra 0 e 30 con passo  0.5;\n",
    "   - creare un vettore di 100 valori uniformemente equispaziati tra 1 e 2.\n",
    "   - usare linspace() per creare un numpy array 2x6 con prima riga di 6 valori uniformi compresi tra 10 e 20 e seconda riga 6 valori     \n",
    "      uniformi compresi tra  20 e 10;\n",
    "   - calcolare il prodotto scalare tra a e b;\n",
    "   - creare la matrice A che ha come righe i vettori a e b ;\n",
    "   - calcolare il prodotto scalare tra i due vettori a e b;\n",
    "   - eseguire il prodotto della matrice A per il vettore b e assegnarlo ad y;\n",
    "   - costruire una matrice diagonale D a partire dal vettore a;"
   ]
  },
  {
   "cell_type": "code",
   "execution_count": 2,
   "id": "ecd00e94-f355-4c31-9bee-9746e84bc109",
   "metadata": {
    "tags": []
   },
   "outputs": [],
   "source": [
    "import numpy as np\n",
    "\n",
    "a=np.array([1.2, 5.4, 6, 1.59])\n",
    "b=np.array([5.2, 1.2, 1.5, 2])"
   ]
  },
  {
   "cell_type": "code",
   "execution_count": 4,
   "id": "7b5c59c8-f7d0-4ed6-b08d-7b0e4f1a0bbc",
   "metadata": {
    "tags": []
   },
   "outputs": [
    {
     "name": "stdout",
     "output_type": "stream",
     "text": [
      "[1.09544512 2.32379001 2.44948974 1.26095202]\n"
     ]
    }
   ],
   "source": [
    "#radice quadrata\n",
    "np.sqrt(a)"
   ]
  },
  {
   "cell_type": "code",
   "execution_count": 19,
   "id": "3ab8ae25-1001-4feb-a78c-cb293dc79db1",
   "metadata": {
    "tags": []
   },
   "outputs": [
    {
     "data": {
      "text/plain": [
       "array([ 1.8221188 , 14.87973172, 20.08553692,  2.214441  ])"
      ]
     },
     "execution_count": 19,
     "metadata": {},
     "output_type": "execute_result"
    }
   ],
   "source": [
    "#calcolare 𝑒xp(𝑎/2)\n",
    "np.exp(a/2)"
   ]
  },
  {
   "cell_type": "code",
   "execution_count": 8,
   "id": "d8f49892-8544-45b0-a3f6-d8592c3fec0a",
   "metadata": {
    "tags": []
   },
   "outputs": [
    {
     "name": "stdout",
     "output_type": "stream",
     "text": [
      "[6.4  6.6  7.5  3.59]\n"
     ]
    }
   ],
   "source": [
    "#calcolare il vettore somma tra a e b \n",
    "a + b"
   ]
  },
  {
   "cell_type": "code",
   "execution_count": 9,
   "id": "0eec8ae5-410a-4831-a9dd-7a33e76f0660",
   "metadata": {
    "tags": []
   },
   "outputs": [
    {
     "name": "stdout",
     "output_type": "stream",
     "text": [
      "[6.24 6.48 9.   3.18]\n"
     ]
    }
   ],
   "source": [
    "#- moltiplicare ogni elemento di a per il corrispondente elemento di b\n",
    "a * b"
   ]
  },
  {
   "cell_type": "code",
   "execution_count": 15,
   "id": "83b1bdf2-5485-41c1-931a-72ebc8497953",
   "metadata": {
    "tags": []
   },
   "outputs": [
    {
     "name": "stdout",
     "output_type": "stream",
     "text": [
      "[ 0.   0.5  1.   1.5  2.   2.5  3.   3.5  4.   4.5  5.   5.5  6.   6.5\n",
      "  7.   7.5  8.   8.5  9.   9.5 10.  10.5 11.  11.5 12.  12.5 13.  13.5\n",
      " 14.  14.5 15.  15.5 16.  16.5 17.  17.5 18.  18.5 19.  19.5 20.  20.5\n",
      " 21.  21.5 22.  22.5 23.  23.5 24.  24.5 25.  25.5 26.  26.5 27.  27.5\n",
      " 28.  28.5 29.  29.5]\n"
     ]
    }
   ],
   "source": [
    "#- creare un vettore di valori uniformemente equispaziati tra 0 e 30 con passo  0.5\n",
    "np.arange(0, 30.0, 0.5)"
   ]
  },
  {
   "cell_type": "code",
   "execution_count": 3,
   "id": "49a63fc2-2c41-48d4-be23-b5bf2ed49321",
   "metadata": {
    "tags": []
   },
   "outputs": [],
   "source": [
    "#- creare un vettore di 100 valori uniformemente equispaziati tra 1 e 2\n",
    "np.arange(0, 30.0, 0.5)"
   ]
  },
  {
   "cell_type": "code",
   "execution_count": 8,
   "id": "fcf40e4f-52e5-4b7a-95bd-c2fa57c232c6",
   "metadata": {
    "tags": []
   },
   "outputs": [
    {
     "data": {
      "text/plain": [
       "array([[10., 12., 14., 16., 18., 20.],\n",
       "       [20., 18., 16., 14., 12., 10.]])"
      ]
     },
     "execution_count": 8,
     "metadata": {},
     "output_type": "execute_result"
    }
   ],
   "source": [
    "#- usare linspace() per creare un numpy array 2x6 con prima riga di 6 valori uniformi compresi tra 10 e 20 e seconda riga 6 valori uniformi compresi tra  20 e 10;\n",
    "np.array([np.linspace(10,20, 6), np.linspace(20,10, 6)])"
   ]
  },
  {
   "cell_type": "code",
   "execution_count": 27,
   "id": "80d9fb20-42f3-4d71-b1c4-98dde5f4e977",
   "metadata": {
    "tags": []
   },
   "outputs": [
    {
     "data": {
      "text/plain": [
       "24.9"
      ]
     },
     "execution_count": 27,
     "metadata": {},
     "output_type": "execute_result"
    }
   ],
   "source": [
    "#- calcolare il prodotto scalare tra a e b\n",
    "a @ b"
   ]
  },
  {
   "cell_type": "code",
   "execution_count": 25,
   "id": "80475c39-070f-4a11-ad4e-bc9aaae490ce",
   "metadata": {
    "tags": []
   },
   "outputs": [
    {
     "name": "stdout",
     "output_type": "stream",
     "text": [
      "[[1.2  5.4  6.   1.59]\n",
      " [5.2  1.2  1.5  2.  ]]\n"
     ]
    }
   ],
   "source": [
    "#- creare la matrice A che ha come righe i vettori a e b\n",
    "A = np.array([a,b],dtype=np.float32)\n",
    "print(A)"
   ]
  },
  {
   "cell_type": "code",
   "execution_count": 28,
   "id": "aebe2548-9a12-45b4-850f-968f696e83f3",
   "metadata": {
    "tags": []
   },
   "outputs": [
    {
     "data": {
      "text/plain": [
       "array([24.9])"
      ]
     },
     "execution_count": 28,
     "metadata": {},
     "output_type": "execute_result"
    }
   ],
   "source": [
    "#- calcolare il prodotto scalare tra i due vettori a e b\n"
   ]
  },
  {
   "cell_type": "code",
   "execution_count": 29,
   "id": "ace764f5-aa7d-413c-ba07-6d77f039b333",
   "metadata": {
    "tags": []
   },
   "outputs": [
    {
     "name": "stdout",
     "output_type": "stream",
     "text": [
      "[24.90000043 34.72999907]\n"
     ]
    }
   ],
   "source": [
    "#- eseguire il prodotto della matrice A per il vettore b e assegnarlo ad y\n",
    "y = A @ b\n",
    "print(y)"
   ]
  },
  {
   "cell_type": "code",
   "execution_count": 23,
   "id": "a22e080b-c152-448c-811c-1827ecbb0419",
   "metadata": {
    "tags": []
   },
   "outputs": [
    {
     "data": {
      "text/plain": [
       "array([[1.2 , 0.  , 0.  , 0.  ],\n",
       "       [0.  , 5.4 , 0.  , 0.  ],\n",
       "       [0.  , 0.  , 6.  , 0.  ],\n",
       "       [0.  , 0.  , 0.  , 1.59]])"
      ]
     },
     "execution_count": 23,
     "metadata": {},
     "output_type": "execute_result"
    }
   ],
   "source": [
    "#- costruire una matrice diagonale D a partire dal vettore a\n",
    "np.diag(a)"
   ]
  },
  {
   "cell_type": "markdown",
   "id": "70b6acab-85c5-4783-84e0-999ca8e68bf3",
   "metadata": {},
   "source": [
    "# Esercizio 2"
   ]
  },
  {
   "cell_type": "markdown",
   "id": "31345015-b8ec-4ea0-aaac-598630474855",
   "metadata": {},
   "source": [
    "Costruire  i seguenti Numpy array 2d utilizzando il minor numero di istruzioni possibili"
   ]
  },
  {
   "cell_type": "markdown",
   "id": "ccf86356-d50a-493c-a870-54c5cc1480eb",
   "metadata": {},
   "source": [
    "<img src=\"ese2.png\" width=\"500\">"
   ]
  },
  {
   "cell_type": "markdown",
   "id": "10a6c66f-2a62-4697-ab7a-b897fb66bcc9",
   "metadata": {},
   "source": [
    "# Esercizio 3"
   ]
  },
  {
   "cell_type": "markdown",
   "id": "8354e8db-9393-41b5-92bf-7dbd9174a20c",
   "metadata": {},
   "source": [
    "Calcolare la somma dei primi n numeri naturali dispari sia utilizzando un ciclo for che servendosi dell'istruzione sum di numpy."
   ]
  },
  {
   "cell_type": "code",
   "execution_count": 39,
   "id": "7a76a713-dc54-4aa0-b15f-559bd50cc1b4",
   "metadata": {
    "tags": []
   },
   "outputs": [],
   "source": [
    "def sum_odd_num(n):\n",
    "    arr = np.arange(n)\n",
    "    return np.sum(arr[arr % 2 == 1])"
   ]
  },
  {
   "cell_type": "code",
   "execution_count": 40,
   "id": "34be7b5b-485f-427d-98a8-a53b1fe73a62",
   "metadata": {
    "tags": []
   },
   "outputs": [
    {
     "name": "stdout",
     "output_type": "stream",
     "text": [
      "2500\n"
     ]
    }
   ],
   "source": [
    "print(sum_odd_num(100))"
   ]
  },
  {
   "cell_type": "markdown",
   "id": "76da5e04-e555-4fee-bfd8-2df68d8996c9",
   "metadata": {},
   "source": [
    "# Esercizo 4"
   ]
  },
  {
   "cell_type": "markdown",
   "id": "5ecf31dd-d88c-46f8-b1b4-2e3b5988694e",
   "metadata": {},
   "source": [
    "Scrivere una function Python per generare l'n-esimo termine (n > 2) della successione\n",
    "di Fibonacci. Scrivere poi una function ricorsiva che risolva lo stesso problema\n",
    "e confrontare i tempi di calcolo delle due functions per n = 24."
   ]
  },
  {
   "cell_type": "markdown",
   "id": "35f3a2c2-b450-457d-9c71-5e81d0f6ea1f",
   "metadata": {},
   "source": [
    "Ricordiamo la formula per generare i i numeri di Fibonacci:\n",
    "\n",
    "$$F_0=1$$\n",
    "$$F_1=1$$\n",
    "$$F_n = F_{n-1} + F_{n-2}, \\quad n=2,...$$"
   ]
  },
  {
   "cell_type": "code",
   "execution_count": null,
   "id": "4a392cc9-7622-4454-b051-be4bfa3f15b6",
   "metadata": {
    "tags": []
   },
   "outputs": [],
   "source": []
  },
  {
   "cell_type": "code",
   "execution_count": 42,
   "id": "10270059-f594-4753-becf-4d61b93b2df5",
   "metadata": {
    "tags": []
   },
   "outputs": [],
   "source": [
    "def fibo(n):\n",
    "    return 1 if n == 0 or n == 1 else fibo(n-1) + fibo(n-2)"
   ]
  },
  {
   "cell_type": "code",
   "execution_count": 47,
   "id": "bc3df14f-7752-4c9c-bd00-c6ed425c0040",
   "metadata": {
    "tags": []
   },
   "outputs": [
    {
     "data": {
      "text/plain": [
       "75025"
      ]
     },
     "execution_count": 47,
     "metadata": {},
     "output_type": "execute_result"
    }
   ],
   "source": [
    "fibo(24)"
   ]
  },
  {
   "cell_type": "code",
   "execution_count": null,
   "id": "65fc658d-6b67-4fc9-9a2e-6d4b187a2bfb",
   "metadata": {},
   "outputs": [],
   "source": []
  }
 ],
 "metadata": {
  "kernelspec": {
   "display_name": "Python 3 (ipykernel)",
   "language": "python",
   "name": "python3"
  },
  "language_info": {
   "codemirror_mode": {
    "name": "ipython",
    "version": 3
   },
   "file_extension": ".py",
   "mimetype": "text/x-python",
   "name": "python",
   "nbconvert_exporter": "python",
   "pygments_lexer": "ipython3",
   "version": "3.11.3"
  }
 },
 "nbformat": 4,
 "nbformat_minor": 5
}
